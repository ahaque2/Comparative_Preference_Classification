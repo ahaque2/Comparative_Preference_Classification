{
 "cells": [
  {
   "cell_type": "code",
   "execution_count": null,
   "metadata": {},
   "outputs": [],
   "source": [
    "import pandas as pd\n",
    "import numpy as np\n",
    "import sys"
   ]
  },
  {
   "cell_type": "code",
   "execution_count": null,
   "metadata": {},
   "outputs": [],
   "source": [
    "task = 'preferred'"
   ]
  },
  {
   "cell_type": "code",
   "execution_count": null,
   "metadata": {},
   "outputs": [],
   "source": [
    "df = pd.read_csv('../data/labeled_data/CPC_labeled_proc_dataset.csv')"
   ]
  },
  {
   "cell_type": "code",
   "execution_count": null,
   "metadata": {},
   "outputs": [],
   "source": [
    "y_true = df[task].tolist()\n",
    "input_text = df['proc_sent'].tolist()\n",
    "\n",
    "X = np.array(input_text)\n",
    "y = np.array(y_true)"
   ]
  },
  {
   "cell_type": "code",
   "execution_count": null,
   "metadata": {},
   "outputs": [],
   "source": [
    "from sklearn.model_selection import StratifiedShuffleSplit\n",
    "\n",
    "def get_train_test_val_split(df):\n",
    "    \n",
    "    y_true = df[task].tolist()\n",
    "    input_text = df['proc_sent'].tolist()\n",
    "\n",
    "    X = np.array(input_text)\n",
    "    y = np.array(y_true)\n",
    "    \n",
    "    split = StratifiedShuffleSplit(n_splits=1, test_size=0.40, random_state=42)\n",
    "    for train_index, test_valid_index in split.split(X, y):\n",
    "        train_set = df.iloc[train_index]\n",
    "        test_valid_set = df.iloc[test_valid_index]\n",
    "        \n",
    "        np.save('../final_data/pref/train_index.npy', train_index)\n",
    "\n",
    "    split2 = StratifiedShuffleSplit(n_splits=1, test_size=0.5, random_state=42)\n",
    "    for test_index, valid_index in split2.split(test_valid_set, test_valid_set[task]):\n",
    "        test_set = test_valid_set.iloc[test_index]\n",
    "        valid_set = test_valid_set.iloc[valid_index]\n",
    "        \n",
    "        np.save('../final_data/pref/test_index.npy', test_index)\n",
    "        np.save('../final_data/pref/val_index.npy', valid_index)\n",
    "        \n",
    "    return train_set, valid_set, test_set\n",
    "        \n",
    "def get_data(task):\n",
    "    \n",
    "    if task == 'csi':\n",
    "        train_index = np.load('../final_data/comp/train_index.npy')\n",
    "        test_index = np.load('../final_data/comp/test_index.npy')\n",
    "        val_index = np.load('../final_data/comp/val_index.npy')\n",
    "    else:\n",
    "        train_index = np.load('../final_data/pref/train_index.npy')\n",
    "        test_index = np.load('../final_data/pref/test_index.npy')\n",
    "        val_index = np.load('../final_data/pref/val_index.npy')\n",
    "        \n",
    "    train_set = df.iloc[train_index]\n",
    "    val_set = df.iloc[val_index]\n",
    "    test_set = df.iloc[test_index]\n",
    "    \n",
    "    return train_set, val_set, test_set\n",
    "    \n",
    "train_set, val_set, test_set  = get_data('cpc')"
   ]
  },
  {
   "cell_type": "code",
   "execution_count": null,
   "metadata": {},
   "outputs": [],
   "source": [
    "train_set.shape, val_set.shape, test_set.shape"
   ]
  },
  {
   "cell_type": "code",
   "execution_count": null,
   "metadata": {},
   "outputs": [],
   "source": [
    "from transformers import DistilBertTokenizerFast\n",
    "tokenizer = DistilBertTokenizerFast.from_pretrained('distilbert-base-uncased')\n",
    "\n",
    "train_encodings = tokenizer(train_set['proc_sent'].tolist(), truncation=True, padding='max_length', max_length=75)\n",
    "val_encodings = tokenizer(val_set['proc_sent'].tolist(), truncation=True, padding='max_length', max_length=75)\n",
    "test_encodings = tokenizer(test_set['proc_sent'].tolist(), truncation=True, padding='max_length', max_length=75)"
   ]
  },
  {
   "cell_type": "code",
   "execution_count": null,
   "metadata": {},
   "outputs": [],
   "source": [
    "import torch\n",
    "\n",
    "class IMDbDataset(torch.utils.data.Dataset):\n",
    "    def __init__(self, encodings, labels):\n",
    "        self.encodings = encodings\n",
    "        self.labels = labels\n",
    "\n",
    "    def __getitem__(self, idx):\n",
    "        item = {key: torch.tensor(val[idx]) for key, val in self.encodings.items()}\n",
    "        item['labels'] = torch.tensor(self.labels[idx])\n",
    "        return item\n",
    "\n",
    "    def __len__(self):\n",
    "        return len(self.labels)\n",
    "\n",
    "train_dataset = IMDbDataset(train_encodings, train_set[task].tolist())\n",
    "val_dataset = IMDbDataset(val_encodings, val_set[task].tolist())\n",
    "test_dataset = IMDbDataset(test_encodings, test_set[task].tolist())"
   ]
  },
  {
   "cell_type": "code",
   "execution_count": null,
   "metadata": {},
   "outputs": [],
   "source": []
  },
  {
   "cell_type": "code",
   "execution_count": null,
   "metadata": {},
   "outputs": [],
   "source": [
    "from transformers import DistilBertForSequenceClassification, Trainer, TrainingArguments\n",
    "\n",
    "training_args = TrainingArguments(\n",
    "    output_dir='./results',          # output directory\n",
    "    num_train_epochs=20,              # total number of training epochs\n",
    "    per_device_train_batch_size=16,  # batch size per device during training\n",
    "    per_device_eval_batch_size=64,   # batch size for evaluation\n",
    "    warmup_steps=500,                # number of warmup steps for learning rate scheduler\n",
    "    weight_decay=0.01,               # strength of weight decay\n",
    "    logging_dir='./logs',            # directory for storing logs\n",
    "    logging_steps=50,\n",
    ")\n",
    "\n",
    "model = DistilBertForSequenceClassification.from_pretrained(\"distilbert-base-uncased\", num_labels = 3)\n",
    "\n",
    "trainer = Trainer(\n",
    "    model=model,                         # the instantiated 🤗 Transformers model to be trained\n",
    "    args=training_args,                  # training arguments, defined above\n",
    "    train_dataset=train_dataset,         # training dataset\n",
    "    eval_dataset=val_dataset          # evaluation dataset\n",
    ")\n",
    "\n",
    "trainer.train()"
   ]
  },
  {
   "cell_type": "code",
   "execution_count": null,
   "metadata": {},
   "outputs": [],
   "source": [
    "#trainer.evaluate()\n",
    "trainer.save_model(\"models/distilbert_loader_pref\")"
   ]
  },
  {
   "cell_type": "code",
   "execution_count": null,
   "metadata": {},
   "outputs": [],
   "source": [
    "#config = .from_pretrained(\"./wandb/run-20210928_120505-2kfw8md3\")"
   ]
  },
  {
   "cell_type": "code",
   "execution_count": null,
   "metadata": {},
   "outputs": [],
   "source": [
    "import torch\n",
    "from transformers import DistilBertForTokenClassification\n",
    "\n",
    "device = torch.device('cuda') if torch.cuda.is_available() else torch.device('cpu')\n",
    "print(device)\n",
    "\n",
    "# from transformers import DistilBertTokenizerFast\n",
    "# tokenizer = DistilBertTokenizerFast.from_pretrained('distilbert-base-cased')\n",
    "\n",
    "#model = DistilBertForSequenceClassification.from_pretrained('distilbert-base-uncased')\"\n",
    "model = AutoModel.from_pretrained(\"models/distilbert_loader_pref\")\n",
    "model.to(device)\n",
    "print(\"Model loaded\")"
   ]
  },
  {
   "cell_type": "code",
   "execution_count": null,
   "metadata": {},
   "outputs": [],
   "source": [
    "outputs = trainer.predict(test_dataset)\n",
    "y_pred = outputs.predictions.argmax(1)\n",
    "y_test = test_dataset.labels\n",
    "\n",
    "from sklearn.metrics import classification_report, confusion_matrix\n",
    "print(classification_report(y_test, y_pred))\n",
    "print(confusion_matrix(y_test, y_pred))"
   ]
  },
  {
   "cell_type": "code",
   "execution_count": null,
   "metadata": {},
   "outputs": [],
   "source": []
  },
  {
   "cell_type": "code",
   "execution_count": null,
   "metadata": {},
   "outputs": [],
   "source": [
    "def get_wrong_labeled_sent():\n",
    "    \n",
    "    temp_df = pd.DataFrame()\n",
    "    temp_df['y_pred'] = y_pred\n",
    "    temp_df['y_true'] = y_test\n",
    "    \n",
    "    temp_df = temp_df.assign(same_flag = lambda x: (x['y_pred'] == x['y_true']))\n",
    "    fil_index = temp_df[temp_df['same_flag'] == False].index\n",
    "    \n",
    "    temp = test_set.iloc[fil_index]\n",
    "    temp_df = temp_df.iloc[fil_index]\n",
    "    temp['y_true'] = temp_df[temp_df['same_flag'] == False]['y_true']\n",
    "    temp['y_pred'] = temp_df[temp_df['same_flag'] == False]['y_pred']\n",
    "    \n",
    "    return temp\n",
    "\n",
    "#wrong_preds = get_wrong_labeled_sent()\n",
    "#wrong_preds.shape\n",
    "#wrong_preds.to_csv('results/wrong_pred_pref.csv')"
   ]
  }
 ],
 "metadata": {
  "kernelspec": {
   "display_name": "py3",
   "language": "python",
   "name": "py3"
  },
  "language_info": {
   "codemirror_mode": {
    "name": "ipython",
    "version": 3
   },
   "file_extension": ".py",
   "mimetype": "text/x-python",
   "name": "python",
   "nbconvert_exporter": "python",
   "pygments_lexer": "ipython3",
   "version": "3.6.9"
  }
 },
 "nbformat": 4,
 "nbformat_minor": 4
}
