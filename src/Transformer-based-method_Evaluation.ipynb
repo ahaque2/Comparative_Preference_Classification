{
 "cells": [
  {
   "cell_type": "code",
   "execution_count": 1,
   "metadata": {},
   "outputs": [],
   "source": [
    "import pandas as pd\n",
    "import numpy as np\n",
    "import sys"
   ]
  },
  {
   "cell_type": "code",
   "execution_count": 2,
   "metadata": {},
   "outputs": [],
   "source": [
    "train_set = pd.read_csv('../data/train.csv')\n",
    "test_set = pd.read_csv('../data/test.csv')\n",
    "val_set = pd.read_csv('../data/val.csv')"
   ]
  },
  {
   "cell_type": "code",
   "execution_count": 3,
   "metadata": {},
   "outputs": [],
   "source": [
    "train_set['preferred'].replace({'T':0, 'N':1,'O':2}, inplace=True)\n",
    "val_set['preferred'].replace({'T':0, 'N':1,'O':2}, inplace=True)\n",
    "test_set['preferred'].replace({'T':0, 'N':1,'O':2}, inplace=True)"
   ]
  },
  {
   "cell_type": "code",
   "execution_count": 4,
   "metadata": {},
   "outputs": [],
   "source": [
    "import torch\n",
    "\n",
    "class getDataset(torch.utils.data.Dataset):\n",
    "    def __init__(self, encodings, labels):\n",
    "        self.encodings = encodings\n",
    "        self.labels = labels\n",
    "\n",
    "    def __getitem__(self, idx):\n",
    "        item = {key: torch.tensor(val[idx]) for key, val in self.encodings.items()}\n",
    "        item['labels'] = torch.tensor(self.labels[idx])\n",
    "        return item\n",
    "\n",
    "    def __len__(self):\n",
    "        return len(self.labels)"
   ]
  },
  {
   "cell_type": "markdown",
   "metadata": {},
   "source": [
    "### Load from saved fine-tuned models"
   ]
  },
  {
   "cell_type": "code",
   "execution_count": 5,
   "metadata": {},
   "outputs": [
    {
     "name": "stdout",
     "output_type": "stream",
     "text": [
      "Model loaded\n"
     ]
    }
   ],
   "source": [
    "import torch\n",
    "from transformers import AutoModelForSequenceClassification, AutoTokenizer, Trainer\n",
    "\n",
    "model_list = ['distilbert-base-uncased', 'xlnet-base-cased', 'roberta-base', 'roberta-large', 'albert-base-v2', 'microsoft/deberta-base']   \n",
    "cmodel = model_list[3]\n",
    "\n",
    "filename = \"../models/\" + str(cmodel)\n",
    "device = torch.device('cuda') if torch.cuda.is_available() else torch.device('cpu')\n",
    "#print(device)\n",
    "\n",
    "model = AutoModelForSequenceClassification.from_pretrained(filename, num_labels = 3)\n",
    "tokenizer = AutoTokenizer.from_pretrained(cmodel) \n",
    "model.to(device)\n",
    "print(\"Model loaded\")\n",
    "\n",
    "trainer = Trainer(model=model)"
   ]
  },
  {
   "cell_type": "markdown",
   "metadata": {},
   "source": [
    "### Performance Evaluation on Pixie"
   ]
  },
  {
   "cell_type": "code",
   "execution_count": 6,
   "metadata": {},
   "outputs": [
    {
     "name": "stderr",
     "output_type": "stream",
     "text": [
      "***** Running Prediction *****\n",
      "  Num examples = 1778\n",
      "  Batch size = 16\n",
      "/home/ahaque2/venv/py3/lib/python3.6/site-packages/torch/nn/parallel/_functions.py:64: UserWarning: Was asked to gather along dimension 0, but all input tensors were scalars; will instead unsqueeze and return a vector.\n",
      "  warnings.warn('Was asked to gather along dimension 0, but all '\n"
     ]
    },
    {
     "data": {
      "text/html": [
       "\n",
       "    <div>\n",
       "      \n",
       "      <progress value='224' max='112' style='width:300px; height:20px; vertical-align: middle;'></progress>\n",
       "      [112/112 00:22]\n",
       "    </div>\n",
       "    "
      ],
      "text/plain": [
       "<IPython.core.display.HTML object>"
      ]
     },
     "metadata": {},
     "output_type": "display_data"
    },
    {
     "name": "stdout",
     "output_type": "stream",
     "text": [
      "              precision    recall  f1-score   support\n",
      "\n",
      "           0     0.8860    0.9302    0.9075       802\n",
      "           1     0.6899    0.6130    0.6492       323\n",
      "           2     0.8875    0.8821    0.8848       653\n",
      "\n",
      "    accuracy                         0.8549      1778\n",
      "   macro avg     0.8211    0.8084    0.8138      1778\n",
      "weighted avg     0.8509    0.8549    0.8523      1778\n",
      "\n",
      "[[746  40  16]\n",
      " [ 68 198  57]\n",
      " [ 28  49 576]]\n"
     ]
    }
   ],
   "source": [
    "test_encodings = tokenizer(test_set['proc_sent'].tolist(), truncation=True, padding='max_length', max_length=100)    \n",
    "test_dataset = getDataset(test_encodings, test_set['preferred'].tolist())\n",
    "\n",
    "outputs = trainer.predict(test_dataset)\n",
    "y_pred = outputs.predictions.argmax(1)\n",
    "y_test = test_dataset.labels\n",
    "\n",
    "from sklearn.metrics import classification_report, confusion_matrix\n",
    "print(classification_report(y_test, y_pred, digits=4))\n",
    "print(confusion_matrix(y_test, y_pred))"
   ]
  },
  {
   "cell_type": "code",
   "execution_count": 7,
   "metadata": {},
   "outputs": [],
   "source": [
    "### Performance evalution for Implicit Comparisons "
   ]
  },
  {
   "cell_type": "code",
   "execution_count": 8,
   "metadata": {},
   "outputs": [
    {
     "name": "stderr",
     "output_type": "stream",
     "text": [
      "***** Running Prediction *****\n",
      "  Num examples = 1004\n",
      "  Batch size = 16\n",
      "/home/ahaque2/venv/py3/lib/python3.6/site-packages/torch/nn/parallel/_functions.py:64: UserWarning: Was asked to gather along dimension 0, but all input tensors were scalars; will instead unsqueeze and return a vector.\n",
      "  warnings.warn('Was asked to gather along dimension 0, but all '\n"
     ]
    },
    {
     "name": "stdout",
     "output_type": "stream",
     "text": [
      "              precision    recall  f1-score   support\n",
      "\n",
      "           0     0.8684    0.9260    0.8963       392\n",
      "           1     0.6159    0.5312    0.5705       160\n",
      "           2     0.8996    0.8916    0.8956       452\n",
      "\n",
      "    accuracy                         0.8476      1004\n",
      "   macro avg     0.7946    0.7830    0.7874      1004\n",
      "weighted avg     0.8422    0.8476    0.8440      1004\n",
      "\n",
      "[[363  22   7]\n",
      " [ 37  85  38]\n",
      " [ 18  31 403]]\n"
     ]
    }
   ],
   "source": [
    "X_test_imp = test_set[test_set['comparison'] == 1]['proc_sent']\n",
    "y_test_imp = test_set[test_set['comparison'] == 1]['preferred']\n",
    "\n",
    "test_encodings = tokenizer(X_test_imp.tolist(), truncation=True, padding='max_length', max_length=100)    \n",
    "test_dataset = getDataset(test_encodings, y_test_imp.tolist())\n",
    "\n",
    "outputs = trainer.predict(test_dataset)\n",
    "y_pred_imp = outputs.predictions.argmax(1)\n",
    "#y_test = test_dataset.labels\n",
    "\n",
    "from sklearn.metrics import classification_report, confusion_matrix\n",
    "print(classification_report(y_test_imp, y_pred_imp, digits=4))\n",
    "print(confusion_matrix(y_test_imp, y_pred_imp))"
   ]
  },
  {
   "cell_type": "code",
   "execution_count": 9,
   "metadata": {},
   "outputs": [],
   "source": [
    "### Performance evalution for Explicit Comparisons "
   ]
  },
  {
   "cell_type": "code",
   "execution_count": 10,
   "metadata": {},
   "outputs": [
    {
     "name": "stderr",
     "output_type": "stream",
     "text": [
      "***** Running Prediction *****\n",
      "  Num examples = 774\n",
      "  Batch size = 16\n",
      "/home/ahaque2/venv/py3/lib/python3.6/site-packages/torch/nn/parallel/_functions.py:64: UserWarning: Was asked to gather along dimension 0, but all input tensors were scalars; will instead unsqueeze and return a vector.\n",
      "  warnings.warn('Was asked to gather along dimension 0, but all '\n"
     ]
    },
    {
     "name": "stdout",
     "output_type": "stream",
     "text": [
      "              precision    recall  f1-score   support\n",
      "\n",
      "           0     0.9033    0.9341    0.9185       410\n",
      "           1     0.7584    0.6933    0.7244       163\n",
      "           2     0.8607    0.8607    0.8607       201\n",
      "\n",
      "    accuracy                         0.8643       774\n",
      "   macro avg     0.8408    0.8294    0.8345       774\n",
      "weighted avg     0.8617    0.8643    0.8626       774\n",
      "\n",
      "[[383  18   9]\n",
      " [ 31 113  19]\n",
      " [ 10  18 173]]\n"
     ]
    }
   ],
   "source": [
    "X_test_exp = test_set[test_set['comparison'] == 2]['proc_sent']\n",
    "y_test_exp = test_set[test_set['comparison'] == 2]['preferred']\n",
    "\n",
    "test_encodings = tokenizer(X_test_exp.tolist(), truncation=True, padding='max_length', max_length=100)    \n",
    "test_dataset = getDataset(test_encodings, y_test_exp.tolist())\n",
    "\n",
    "outputs = trainer.predict(test_dataset)\n",
    "y_pred_exp = outputs.predictions.argmax(1)\n",
    "#y_test = test_dataset.labels\n",
    "\n",
    "from sklearn.metrics import classification_report, confusion_matrix\n",
    "print(classification_report(y_test_exp, y_pred_exp, digits=4))\n",
    "print(confusion_matrix(y_test_exp, y_pred_exp))"
   ]
  },
  {
   "cell_type": "code",
   "execution_count": null,
   "metadata": {},
   "outputs": [],
   "source": []
  }
 ],
 "metadata": {
  "kernelspec": {
   "display_name": "py3",
   "language": "python",
   "name": "py3"
  },
  "language_info": {
   "codemirror_mode": {
    "name": "ipython",
    "version": 3
   },
   "file_extension": ".py",
   "mimetype": "text/x-python",
   "name": "python",
   "nbconvert_exporter": "python",
   "pygments_lexer": "ipython3",
   "version": "3.6.9"
  }
 },
 "nbformat": 4,
 "nbformat_minor": 4
}
