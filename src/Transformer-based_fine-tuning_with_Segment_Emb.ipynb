{
 "cells": [
  {
   "cell_type": "code",
   "execution_count": 29,
   "metadata": {
    "tags": []
   },
   "outputs": [],
   "source": [
    "import pandas as pd\n",
    "import numpy as np\n",
    "import sys\n",
    "\n",
    "pd.set_option(\"display.max_colwidth\", None)"
   ]
  },
  {
   "cell_type": "code",
   "execution_count": 30,
   "metadata": {
    "tags": []
   },
   "outputs": [],
   "source": [
    "seg_flag = True\n",
    "att_flag = False"
   ]
  },
  {
   "cell_type": "code",
   "execution_count": 31,
   "metadata": {
    "tags": []
   },
   "outputs": [],
   "source": [
    "# d = 'exp'\n",
    "train_set = pd.read_csv('../data/train.csv')\n",
    "test_set = pd.read_csv('../data/test.csv')\n",
    "val_set = pd.read_csv('../data/val.csv')\n",
    "\n",
    "train_set['preferred'].replace({'T':0, 'N':1,'O':2}, inplace=True)\n",
    "val_set['preferred'].replace({'T':0, 'N':1,'O':2}, inplace=True)\n",
    "test_set['preferred'].replace({'T':0, 'N':1,'O':2}, inplace=True)\n",
    "\n",
    "train_set['comparison'] = train_set['comparison'].astype(int)\n",
    "val_set['comparison'] = val_set['comparison'].astype(int)\n",
    "test_set['comparison'] = test_set['comparison'].astype(int)"
   ]
  },
  {
   "cell_type": "code",
   "execution_count": null,
   "metadata": {
    "tags": []
   },
   "outputs": [],
   "source": []
  },
  {
   "cell_type": "code",
   "execution_count": null,
   "metadata": {},
   "outputs": [],
   "source": []
  },
  {
   "cell_type": "code",
   "execution_count": 22,
   "metadata": {
    "tags": []
   },
   "outputs": [],
   "source": [
    "# train_set.proc_sent"
   ]
  },
  {
   "cell_type": "code",
   "execution_count": 6,
   "metadata": {
    "tags": []
   },
   "outputs": [],
   "source": [
    "# pixie = pd.read_csv('../final_data/Pixie.csv')\n",
    "# pixie = pixie[['Unnamed: 0', 'appId', 'mentions', 'mentioned_apps', 'current_app', 'sentence', 'masked_sent', 'comparison', 'preferred']]"
   ]
  },
  {
   "cell_type": "code",
   "execution_count": 7,
   "metadata": {
    "tags": []
   },
   "outputs": [],
   "source": [
    "# test_set['preferred'].value_counts()"
   ]
  },
  {
   "cell_type": "code",
   "execution_count": null,
   "metadata": {
    "tags": []
   },
   "outputs": [],
   "source": []
  },
  {
   "cell_type": "code",
   "execution_count": null,
   "metadata": {
    "tags": []
   },
   "outputs": [],
   "source": []
  },
  {
   "cell_type": "code",
   "execution_count": 8,
   "metadata": {
    "tags": []
   },
   "outputs": [],
   "source": [
    "# pixie = pixie.rename(columns = {'Unnamed: 0.1.1': 'sentId'})\n",
    "# pixie = pixie.rename(columns = {'proc_sent': 'masked_sent'})"
   ]
  },
  {
   "cell_type": "code",
   "execution_count": 9,
   "metadata": {
    "tags": []
   },
   "outputs": [],
   "source": [
    "# pixie.to_csv('../final_data/Pixie.csv')"
   ]
  },
  {
   "cell_type": "code",
   "execution_count": null,
   "metadata": {},
   "outputs": [],
   "source": []
  },
  {
   "cell_type": "markdown",
   "metadata": {},
   "source": [
    "### Upsampling"
   ]
  },
  {
   "cell_type": "code",
   "execution_count": 10,
   "metadata": {
    "tags": []
   },
   "outputs": [],
   "source": [
    "class1_test = train_set[train_set['preferred'] == 0].sample(2400, replace = False)\n",
    "class2_test = train_set[train_set['preferred'] == 1].sample(2400, replace = True)\n",
    "class3_test = train_set[train_set['preferred'] == 2].sample(2400, replace = True)\n",
    "\n",
    "train_set = pd.concat((class1_test, class2_test, class3_test), axis = 0)\n",
    "train_set = train_set.sample(7200, random_state=42)\n",
    "\n",
    "class1_val = val_set[val_set['preferred'] == 0].sample(800, replace = False)\n",
    "class2_val = val_set[val_set['preferred'] == 1].sample(800, replace = True)\n",
    "class3_val = val_set[val_set['preferred'] == 2].sample(800, replace = True)\n",
    "\n",
    "val_set = pd.concat((class1_val, class2_val, class3_val), axis = 0)\n",
    "val_set = val_set.sample(2400, random_state=42)\n",
    "\n",
    "class1_test = test_set[test_set['preferred'] == 0].sample(800, replace = False)\n",
    "class2_test = test_set[test_set['preferred'] == 1].sample(800, replace = True)\n",
    "class3_test = test_set[test_set['preferred'] == 2].sample(800, replace = True)\n",
    "\n",
    "test_set = pd.concat((class1_test, class2_test, class3_test), axis = 0)\n",
    "test_set = test_set.sample(2400, random_state=42)"
   ]
  },
  {
   "cell_type": "markdown",
   "metadata": {},
   "source": [
    "### Methods to create segment embeddings"
   ]
  },
  {
   "cell_type": "code",
   "execution_count": 32,
   "metadata": {
    "tags": []
   },
   "outputs": [],
   "source": [
    "import torch\n",
    "\n",
    "class getDataset(torch.utils.data.Dataset):\n",
    "    def __init__(self, encodings, labels):\n",
    "        self.encodings = encodings\n",
    "        self.labels = labels\n",
    "\n",
    "    def __getitem__(self, idx):\n",
    "        item = {key: torch.tensor(val[idx]) for key, val in self.encodings.items()}\n",
    "        item['labels'] = torch.tensor(self.labels[idx])\n",
    "        return item\n",
    "\n",
    "    def __len__(self):\n",
    "        return len(self.labels)\n",
    "    \n",
    "def update_seg_embeddings(tokenizer, encodings):\n",
    "    \n",
    "    \n",
    "    input_ids = encodings['input_ids']\n",
    "    seg_embeddings = encodings['token_type_ids']\n",
    "    \n",
    "    new_tok_id = tokenizer.vocab_size + 1\n",
    "    new_seg_embs = []\n",
    "    \n",
    "    for inp_ids, seg_emb in zip(input_ids, seg_embeddings):\n",
    "        \n",
    "        seg_embs = [0 if(x == new_tok_id or x == 0) else 1 for x in inp_ids]\n",
    "#         seg_embs = [2 if(x==new_tok_id) else x for x in inp_ids]\n",
    "#         seg_embs = [1 if(x!=0 and x!=2) else x for x in seg_embs]\n",
    "        new_seg_embs.append(seg_embs)\n",
    "        \n",
    "    encodings['token_type_ids'] = new_seg_embs\n",
    "    \n",
    "    return encodings\n",
    "#train_encodings_ = update_seg_embeddings(tokenizer, train_encodings)\n",
    "\n",
    "\n",
    "def update_attention_masks(tokenizer, encodings):\n",
    "    \n",
    "    \n",
    "    input_ids = encodings['input_ids']\n",
    "    attention_mask = encodings['attention_mask']\n",
    "    \n",
    "    new_tok_id = tokenizer.vocab_size + 1\n",
    "    new_att_mask = []\n",
    "    \n",
    "    for inp_ids, att_m in zip(input_ids, attention_mask):\n",
    "        \n",
    "        #att_mask = [1 if(x == new_tok_id or x == 0) else 1 for x in inp_ids]\n",
    "        att_mask = [0.50 if(x==new_tok_id or x==new_tok_id-1) else x for x in inp_ids]\n",
    "        att_mask = [1 if(x!=0.50 and x!=0) else x for x in att_mask]\n",
    "        new_att_mask.append(att_mask)\n",
    "        \n",
    "    encodings['attention_mask'] = new_att_mask\n",
    "    \n",
    "    return encodings\n",
    "\n",
    "#train_encodings_ = update_attention_masks(tokenizer, train_encodings)"
   ]
  },
  {
   "cell_type": "markdown",
   "metadata": {},
   "source": [
    "#### Change flags here for appropriate settings"
   ]
  },
  {
   "cell_type": "code",
   "execution_count": 39,
   "metadata": {
    "tags": []
   },
   "outputs": [],
   "source": [
    "model_list = ['bert-base-cased', 'xlnet-base-cased', 'albert-base-v2', 'microsoft/deberta-base']   \n",
    "cmodel = model_list[0]     # Chose a model\n",
    "save = False   # Change to True if you wish to save the model after training\n",
    "training_flag = True   ### Change to False to use the saved model (you will have to train the model once and save it, or the code will complain saying 'no model found')\n",
    "\n",
    "if(seg_flag == True):\n",
    "    filename = \"models/\" + str(cmodel) + '_seg_emb'\n",
    "else:\n",
    "    filename = \"models/\" + str(cmodel)"
   ]
  },
  {
   "cell_type": "code",
   "execution_count": 40,
   "metadata": {
    "tags": []
   },
   "outputs": [
    {
     "name": "stderr",
     "output_type": "stream",
     "text": [
      "Some weights of BertForSequenceClassification were not initialized from the model checkpoint at bert-base-cased and are newly initialized: ['classifier.bias', 'classifier.weight']\n",
      "You should probably TRAIN this model on a down-stream task to be able to use it for predictions and inference.\n"
     ]
    },
    {
     "data": {
      "text/plain": [
       "Embedding(28998, 768)"
      ]
     },
     "execution_count": 40,
     "metadata": {},
     "output_type": "execute_result"
    }
   ],
   "source": [
    "from transformers import AutoModelForSequenceClassification, Trainer, TrainingArguments, AutoTokenizer, AutoModelForSequenceClassification\n",
    "model = AutoModelForSequenceClassification.from_pretrained(cmodel, num_labels = 3)\n",
    "tokenizer = AutoTokenizer.from_pretrained(cmodel)  \n",
    "tokenizer.add_tokens(['<current_entity>', '<other_entity>'])\n",
    "model.resize_token_embeddings(len(tokenizer))"
   ]
  },
  {
   "cell_type": "code",
   "execution_count": 41,
   "metadata": {
    "tags": []
   },
   "outputs": [],
   "source": [
    "# print(tokenizer.tokenize(train_set['proc_sent'][0]))\n",
    "# encoding = tokenizer([train_set['proc_sent'][0]], truncation=True, padding='max_length', max_length=100)\n",
    "# encoding.keys()"
   ]
  },
  {
   "cell_type": "markdown",
   "metadata": {},
   "source": [
    "### Encode tain and validation dataset"
   ]
  },
  {
   "cell_type": "code",
   "execution_count": 42,
   "metadata": {
    "tags": []
   },
   "outputs": [],
   "source": [
    "train_encodings = tokenizer(train_set['proc_sent'].tolist(), truncation=True, padding='max_length', max_length=100)\n",
    "val_encodings = tokenizer(val_set['proc_sent'].tolist(), truncation=True, padding='max_length', max_length=100)   \n",
    "\n",
    "if(seg_flag == True):\n",
    "    train_encodings = update_seg_embeddings(tokenizer, train_encodings)\n",
    "    val_encodings = update_seg_embeddings(tokenizer, val_encodings)\n",
    "    \n",
    "if(att_flag == True):\n",
    "    train_encodings = update_attention_masks(tokenizer, train_encodings)\n",
    "    val_encodings = update_attention_masks(tokenizer, val_encodings)\n",
    "\n",
    "train_dataset = getDataset(train_encodings, train_set[task].tolist())\n",
    "val_dataset = getDataset(val_encodings, val_set[task].tolist())"
   ]
  },
  {
   "cell_type": "code",
   "execution_count": 43,
   "metadata": {
    "tags": []
   },
   "outputs": [],
   "source": [
    "# print(tokenizer.tokenize(train_set['proc_sent'][0]))"
   ]
  },
  {
   "cell_type": "markdown",
   "metadata": {},
   "source": [
    "### Training a model"
   ]
  },
  {
   "cell_type": "code",
   "execution_count": 44,
   "metadata": {
    "tags": []
   },
   "outputs": [
    {
     "name": "stderr",
     "output_type": "stream",
     "text": [
      "/home/ahaque2/venv/py3_10/lib/python3.10/site-packages/torch/nn/parallel/_functions.py:68: UserWarning: Was asked to gather along dimension 0, but all input tensors were scalars; will instead unsqueeze and return a vector.\n",
      "  warnings.warn('Was asked to gather along dimension 0, but all '\n"
     ]
    },
    {
     "data": {
      "text/html": [
       "\n",
       "    <div>\n",
       "      \n",
       "      <progress value='3340' max='3340' style='width:300px; height:20px; vertical-align: middle;'></progress>\n",
       "      [3340/3340 08:27, Epoch 20/20]\n",
       "    </div>\n",
       "    <table border=\"1\" class=\"dataframe\">\n",
       "  <thead>\n",
       " <tr style=\"text-align: left;\">\n",
       "      <th>Step</th>\n",
       "      <th>Training Loss</th>\n",
       "    </tr>\n",
       "  </thead>\n",
       "  <tbody>\n",
       "    <tr>\n",
       "      <td>1000</td>\n",
       "      <td>0.440000</td>\n",
       "    </tr>\n",
       "    <tr>\n",
       "      <td>2000</td>\n",
       "      <td>0.032500</td>\n",
       "    </tr>\n",
       "    <tr>\n",
       "      <td>3000</td>\n",
       "      <td>0.003700</td>\n",
       "    </tr>\n",
       "  </tbody>\n",
       "</table><p>"
      ],
      "text/plain": [
       "<IPython.core.display.HTML object>"
      ]
     },
     "metadata": {},
     "output_type": "display_data"
    },
    {
     "name": "stderr",
     "output_type": "stream",
     "text": [
      "/home/ahaque2/venv/py3_10/lib/python3.10/site-packages/torch/nn/parallel/_functions.py:68: UserWarning: Was asked to gather along dimension 0, but all input tensors were scalars; will instead unsqueeze and return a vector.\n",
      "  warnings.warn('Was asked to gather along dimension 0, but all '\n",
      "/home/ahaque2/venv/py3_10/lib/python3.10/site-packages/torch/nn/parallel/_functions.py:68: UserWarning: Was asked to gather along dimension 0, but all input tensors were scalars; will instead unsqueeze and return a vector.\n",
      "  warnings.warn('Was asked to gather along dimension 0, but all '\n",
      "/home/ahaque2/venv/py3_10/lib/python3.10/site-packages/torch/nn/parallel/_functions.py:68: UserWarning: Was asked to gather along dimension 0, but all input tensors were scalars; will instead unsqueeze and return a vector.\n",
      "  warnings.warn('Was asked to gather along dimension 0, but all '\n",
      "/home/ahaque2/venv/py3_10/lib/python3.10/site-packages/torch/nn/parallel/_functions.py:68: UserWarning: Was asked to gather along dimension 0, but all input tensors were scalars; will instead unsqueeze and return a vector.\n",
      "  warnings.warn('Was asked to gather along dimension 0, but all '\n",
      "/home/ahaque2/venv/py3_10/lib/python3.10/site-packages/torch/nn/parallel/_functions.py:68: UserWarning: Was asked to gather along dimension 0, but all input tensors were scalars; will instead unsqueeze and return a vector.\n",
      "  warnings.warn('Was asked to gather along dimension 0, but all '\n",
      "/home/ahaque2/venv/py3_10/lib/python3.10/site-packages/torch/nn/parallel/_functions.py:68: UserWarning: Was asked to gather along dimension 0, but all input tensors were scalars; will instead unsqueeze and return a vector.\n",
      "  warnings.warn('Was asked to gather along dimension 0, but all '\n"
     ]
    }
   ],
   "source": [
    "from transformers import Trainer, TrainingArguments\n",
    "\n",
    "training_args = TrainingArguments(\n",
    "    output_dir='./results',          # output directory\n",
    "    num_train_epochs=20,              # total number of training epochs\n",
    "    per_device_train_batch_size=16,  # batch size per device during training\n",
    "    per_device_eval_batch_size=16,   # batch size for evaluation\n",
    "    warmup_steps=500,                # number of warmup steps for learning rate scheduler\n",
    "    weight_decay=0.01,               # strength of weight decay\n",
    "    logging_dir='./logs',            # directory for storing logs\n",
    "    logging_steps=1000,\n",
    "    report_to=\"wandb\"\n",
    ")\n",
    "\n",
    "# training_args = TrainingArguments(\"test-trainer\")\n",
    "\n",
    "trainer = Trainer(\n",
    "    model=model,                         # the instantiated 🤗 Transformers model to be trained\n",
    "    args=training_args,                  # training arguments, defined above\n",
    "    train_dataset=train_dataset,         # training dataset\n",
    "    eval_dataset=val_dataset,          # evaluation dataset\n",
    ")\n",
    "\n",
    "# trainer = Trainer(\n",
    "#     model,\n",
    "#     args,\n",
    "#     train_dataset=encoded_dataset[\"train\"],\n",
    "#     eval_dataset=encoded_dataset[validation_key],\n",
    "#     tokenizer=tokenizer,\n",
    "#     compute_metrics=compute_metrics\n",
    "# )\n",
    "\n",
    "if(training_flag == True):\n",
    "    trainer.train()"
   ]
  },
  {
   "cell_type": "markdown",
   "metadata": {},
   "source": [
    "### Save the trained model"
   ]
  },
  {
   "cell_type": "code",
   "execution_count": 25,
   "metadata": {},
   "outputs": [],
   "source": [
    "#trainer.evaluate()\n",
    "\n",
    "if(save == True):\n",
    "    filename = \"models/\" + str(cmodel) + '_upsampling'\n",
    "    trainer.save_model(filename)"
   ]
  },
  {
   "cell_type": "code",
   "execution_count": null,
   "metadata": {},
   "outputs": [],
   "source": []
  },
  {
   "cell_type": "code",
   "execution_count": 26,
   "metadata": {},
   "outputs": [
    {
     "name": "stdout",
     "output_type": "stream",
     "text": [
      "Model loaded\n"
     ]
    }
   ],
   "source": [
    "# import torch\n",
    "# from transformers import AutoModelForSequenceClassification, AutoTokenizer, Trainer\n",
    "\n",
    "if(training_flag == False):\n",
    "    \n",
    "    device = torch.device('cuda') if torch.cuda.is_available() else torch.device('cpu')\n",
    "    model = AutoModelForSequenceClassification.from_pretrained(filename, num_labels = 3)\n",
    "    model.to(device)\n",
    "    print(\"Model loaded\")\n",
    "\n",
    "    trainer = Trainer(model=model)"
   ]
  },
  {
   "cell_type": "code",
   "execution_count": 45,
   "metadata": {},
   "outputs": [
    {
     "data": {
      "text/html": [],
      "text/plain": [
       "<IPython.core.display.HTML object>"
      ]
     },
     "metadata": {},
     "output_type": "display_data"
    },
    {
     "name": "stdout",
     "output_type": "stream",
     "text": [
      "              precision    recall  f1-score   support\n",
      "\n",
      "           0     0.8317    0.8504    0.8409       802\n",
      "           1     0.6174    0.5046    0.5554       323\n",
      "           2     0.7680    0.8162    0.7914       653\n",
      "\n",
      "    accuracy                         0.7750      1778\n",
      "   macro avg     0.7390    0.7238    0.7292      1778\n",
      "weighted avg     0.7694    0.7750    0.7709      1778\n",
      "\n",
      "[[682  46  74]\n",
      " [ 73 163  87]\n",
      " [ 65  55 533]]\n",
      "0.775\n"
     ]
    }
   ],
   "source": [
    "test_encodings = tokenizer(test_set['proc_sent'].tolist(), truncation=True, padding='max_length', max_length=100)\n",
    "\n",
    "if(seg_flag == True):\n",
    "    test_encodings = update_seg_embeddings(tokenizer, test_encodings)\n",
    "    \n",
    "if(att_flag == True):\n",
    "    test_encodings = update_attention_masks(tokenizer, test_encodings)\n",
    "    \n",
    "test_dataset = getDataset(test_encodings, test_set[task].tolist())\n",
    "\n",
    "outputs = trainer.predict(test_dataset)\n",
    "y_pred = outputs.predictions.argmax(1)\n",
    "y_test = test_dataset.labels\n",
    "\n",
    "from sklearn.metrics import classification_report, confusion_matrix, f1_score\n",
    "print(classification_report(y_test, y_pred, digits=4))\n",
    "print(confusion_matrix(y_test, y_pred))\n",
    "print(round(f1_score(y_test, y_pred, average='micro'),4))"
   ]
  },
  {
   "cell_type": "code",
   "execution_count": null,
   "metadata": {},
   "outputs": [],
   "source": [
    "#train_dataset[0]"
   ]
  },
  {
   "cell_type": "code",
   "execution_count": null,
   "metadata": {},
   "outputs": [],
   "source": [
    "test_set[cmodel] = y_pred"
   ]
  },
  {
   "cell_type": "code",
   "execution_count": null,
   "metadata": {},
   "outputs": [],
   "source": [
    "test_set = test_set.rename(columns={'microsoft/deberta-base':'deberta', 'albert-base-v2': 'albert', 'xlnet-base-cased': 'xlnet', 'bert-base-cased': 'bert'})"
   ]
  },
  {
   "cell_type": "code",
   "execution_count": null,
   "metadata": {},
   "outputs": [],
   "source": [
    "predictions = pd.read_csv('results/ed-gat_pred.csv')"
   ]
  },
  {
   "cell_type": "code",
   "execution_count": null,
   "metadata": {},
   "outputs": [],
   "source": [
    "predictions = predictions.rename(columns = {'Unnamed: 0.1':'id'})"
   ]
  },
  {
   "cell_type": "code",
   "execution_count": null,
   "metadata": {},
   "outputs": [],
   "source": [
    "test_set = test_set.rename(columns = {'Unnamed: 0':'id'})"
   ]
  },
  {
   "cell_type": "code",
   "execution_count": null,
   "metadata": {},
   "outputs": [],
   "source": [
    "final_pred = test_set.merge(predictions, on = 'id')"
   ]
  },
  {
   "cell_type": "code",
   "execution_count": null,
   "metadata": {},
   "outputs": [],
   "source": [
    "final_pred = final_pred[['id', 'sentId_x', 'appId_x', 'mentions_x', 'mentioned_apps_x', 'current_app_x', 'comparison_x', 'preferred_x', 'sentence_x', 'proc_sent_x', 'deberta_seg', \n",
    "            'albert_seg', 'xlnet_seg', 'bert_seg', 'deberta', 'albert', 'xlnet', 'bert', 'pred_labs_edgat']]"
   ]
  },
  {
   "cell_type": "code",
   "execution_count": null,
   "metadata": {},
   "outputs": [],
   "source": [
    "final_pred.columns = final_pred.columns.str.replace('_x', '')"
   ]
  },
  {
   "cell_type": "code",
   "execution_count": null,
   "metadata": {},
   "outputs": [],
   "source": [
    "final_pred.to_csv('results/combined_predictions.csv')"
   ]
  },
  {
   "cell_type": "code",
   "execution_count": null,
   "metadata": {},
   "outputs": [],
   "source": [
    "filename"
   ]
  },
  {
   "cell_type": "markdown",
   "metadata": {},
   "source": [
    "### Wrong Predictions"
   ]
  },
  {
   "cell_type": "code",
   "execution_count": null,
   "metadata": {},
   "outputs": [],
   "source": [
    "def get_wrong_labeled_sent(test_set, y_pred, y_test):\n",
    "    \n",
    "    temp_df = pd.DataFrame()\n",
    "    temp_df['y_pred'] = y_pred\n",
    "    temp_df['y_true'] = y_test\n",
    "    \n",
    "    temp_df = temp_df.assign(same_flag = lambda x: (x['y_pred'] == x['y_true']))\n",
    "    fil_index = temp_df[temp_df['same_flag'] == False].index\n",
    "    \n",
    "    temp = test_set.iloc[fil_index]\n",
    "    temp_df = temp_df.iloc[fil_index]\n",
    "    temp['y_true'] = temp_df[temp_df['same_flag'] == False]['y_true']\n",
    "    temp['y_pred'] = temp_df[temp_df['same_flag'] == False]['y_pred']\n",
    "    \n",
    "    return temp\n",
    "\n",
    "wrong_preds = get_wrong_labeled_sent(train_set, y_pred, y_test)\n",
    "wrong_preds.shape"
   ]
  },
  {
   "cell_type": "code",
   "execution_count": null,
   "metadata": {},
   "outputs": [],
   "source": []
  },
  {
   "cell_type": "code",
   "execution_count": null,
   "metadata": {
    "tags": []
   },
   "outputs": [],
   "source": []
  },
  {
   "cell_type": "code",
   "execution_count": null,
   "metadata": {
    "tags": []
   },
   "outputs": [],
   "source": []
  },
  {
   "cell_type": "code",
   "execution_count": null,
   "metadata": {
    "tags": []
   },
   "outputs": [],
   "source": []
  },
  {
   "cell_type": "code",
   "execution_count": null,
   "metadata": {},
   "outputs": [],
   "source": []
  }
 ],
 "metadata": {
  "kernelspec": {
   "display_name": "py3_10",
   "language": "python",
   "name": "py3_10"
  },
  "language_info": {
   "codemirror_mode": {
    "name": "ipython",
    "version": 3
   },
   "file_extension": ".py",
   "mimetype": "text/x-python",
   "name": "python",
   "nbconvert_exporter": "python",
   "pygments_lexer": "ipython3",
   "version": "3.10.6"
  }
 },
 "nbformat": 4,
 "nbformat_minor": 4
}
